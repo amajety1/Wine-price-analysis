{
 "cells": [
  {
   "cell_type": "markdown",
   "metadata": {},
   "source": [
    "Hello! In this notebook we will analyse various wine reviews by various sommeliers.This dataset contains over 130,000 different wine reviews, and to avoid memory problems we will analyse the dataset in sets of 5000. The aim is to build a model that can accurately determine the price of the wine from the given data."
   ]
  },
  {
   "cell_type": "code",
   "execution_count": 1,
   "metadata": {},
   "outputs": [],
   "source": [
    "# Let us import the necessary libraries\n",
    "\n",
    "import pandas as pd\n",
    "import seaborn as sns\n",
    "import numpy as np\n",
    "import matplotlib.pyplot as plt\n",
    "from matplotlib import dates\n",
    "from datetime import datetime\n",
    "import random"
   ]
  },
  {
   "cell_type": "code",
   "execution_count": 2,
   "metadata": {},
   "outputs": [],
   "source": [
    "# Importing our dataset, and split our dataset into groups of 5000 records each\n",
    "\n",
    "# Read the CSV file into a DataFrame\n",
    "dataset = pd.read_csv('winemag-data_first150k.csv')\n",
    "\n",
    "# Shuffle the DataFrame\n",
    "dataset = dataset.sample(frac=1).reset_index(drop=True)\n",
    "\n",
    "# Split the DataFrame into groups of 5000 records each\n",
    "group_size = 15000\n",
    "groups = [dataset[i:i + group_size] for i in range(0, len(dataset), group_size)]\n",
    "\n"
   ]
  },
  {
   "cell_type": "code",
   "execution_count": 3,
   "metadata": {},
   "outputs": [
    {
     "data": {
      "text/plain": [
       "Index(['Unnamed: 0', 'country', 'description', 'designation', 'points',\n",
       "       'price', 'province', 'region_1', 'region_2', 'variety', 'winery'],\n",
       "      dtype='object')"
      ]
     },
     "execution_count": 3,
     "metadata": {},
     "output_type": "execute_result"
    }
   ],
   "source": [
    "# Now let's start with the first group\n",
    "\n",
    "data_first = groups[0]\n",
    "data_first.columns\n"
   ]
  },
  {
   "cell_type": "code",
   "execution_count": 4,
   "metadata": {},
   "outputs": [
    {
     "name": "stdout",
     "output_type": "stream",
     "text": [
      "Unnamed: 0        0\n",
      "country           0\n",
      "description       0\n",
      "designation    4494\n",
      "points            0\n",
      "price          1376\n",
      "province          0\n",
      "region_1       2500\n",
      "region_2       8980\n",
      "variety           0\n",
      "winery            0\n",
      "dtype: int64\n"
     ]
    }
   ],
   "source": [
    "# Let's see the number of missing values in each column\n",
    "\n",
    "\n",
    "null_counts = data_first.isnull().sum()\n",
    "print(null_counts)\n"
   ]
  },
  {
   "cell_type": "code",
   "execution_count": 5,
   "metadata": {},
   "outputs": [
    {
     "name": "stdout",
     "output_type": "stream",
     "text": [
      "country        0\n",
      "points         0\n",
      "price       1376\n",
      "province       0\n",
      "variety        0\n",
      "winery         0\n",
      "dtype: int64\n"
     ]
    }
   ],
   "source": [
    "# Let's delete the columns 'designation', 'region_1', and 'region_2', since there are too many missing records. \n",
    "# We will also get rid of the description column since we are not using sentiment analysis yet...\n",
    "columns_to_drop = ['designation', 'region_1', 'region_2', 'description', 'Unnamed: 0']\n",
    "data_first = data_first.drop(columns_to_drop, axis=1)\n",
    "null_counts = data_first.isnull().sum()\n",
    "print(null_counts)"
   ]
  },
  {
   "cell_type": "code",
   "execution_count": 6,
   "metadata": {},
   "outputs": [
    {
     "name": "stdout",
     "output_type": "stream",
     "text": [
      "country     0\n",
      "points      0\n",
      "price       0\n",
      "province    0\n",
      "variety     0\n",
      "winery      0\n",
      "dtype: int64\n",
      "Number of records: 13624\n"
     ]
    }
   ],
   "source": [
    "# Now, let's get rid of any records that are missing values in the 'Price' column\n",
    "\n",
    "data_first.dropna(inplace=True)\n",
    "null_counts = data_first.isnull().sum()\n",
    "print(null_counts)\n",
    "print(\"Number of records:\", len(data_first))"
   ]
  },
  {
   "cell_type": "code",
   "execution_count": 7,
   "metadata": {},
   "outputs": [
    {
     "name": "stdout",
     "output_type": "stream",
     "text": [
      "       country  points  price                 province             variety  \\\n",
      "0           US      83   10.0               California     Sauvignon Blanc   \n",
      "1           US      94   34.0               Washington               Syrah   \n",
      "2    Argentina      87   17.0         Mendoza Province  Cabernet Sauvignon   \n",
      "3        Spain      92   41.0           Northern Spain         Tempranillo   \n",
      "4        Chile      85   13.0         Aconcagua Valley  Cabernet Sauvignon   \n",
      "6           US      86   16.0               California          Chardonnay   \n",
      "7        Spain      82   12.0            Central Spain                Rosé   \n",
      "8           US      86   10.0               California     Sauvignon Blanc   \n",
      "9     Portugal      84   12.0                     Port                Port   \n",
      "10          US      87    8.0               California     Sauvignon Blanc   \n",
      "11          US      91   38.0               California          Chardonnay   \n",
      "12          US      85   20.0               Washington        Petit Verdot   \n",
      "14  Luxembourg      86   36.0  Moselle Luxembourgeoise            Riesling   \n",
      "15    Portugal      88   15.0                      Dão       Malvasia Fina   \n",
      "17     Germany      94   92.0                 Rheingau            Riesling   \n",
      "18       Italy      88   22.0                  Tuscany          Sangiovese   \n",
      "19          US      92   40.0               California     Sparkling Blend   \n",
      "20       Italy      90   25.0       Northeastern Italy           Sauvignon   \n",
      "21   Australia      89   40.0          South Australia              Shiraz   \n",
      "22          US      87   20.0                 New York              Merlot   \n",
      "\n",
      "                          winery  \n",
      "0                      Concannon  \n",
      "1                    Ross Andrew  \n",
      "2                      Piattelli  \n",
      "3                     Peña Roble  \n",
      "4             Conde de Velázquez  \n",
      "6                          Egret  \n",
      "7                 Bodegas Orusco  \n",
      "8                       Lockwood  \n",
      "9                       Sandeman  \n",
      "10  Woodbridge by Robert Mondavi  \n",
      "11                 Expression 38  \n",
      "12                    For a Song  \n",
      "14          Mme Aly Duhr et Fils  \n",
      "15              Quinta das Maias  \n",
      "17                   Robert Weil  \n",
      "18                      Collazzi  \n",
      "19                       Chandon  \n",
      "20            Castello di Spessa  \n",
      "21              John Duval Wines  \n",
      "22                      Gristina  \n"
     ]
    }
   ],
   "source": [
    "print(data_first.head(20))\n"
   ]
  },
  {
   "cell_type": "code",
   "execution_count": 8,
   "metadata": {},
   "outputs": [
    {
     "name": "stdout",
     "output_type": "stream",
     "text": [
      "country\n",
      "US                6135\n",
      "Italy             1842\n",
      "France            1444\n",
      "Spain              873\n",
      "Chile              599\n",
      "Argentina          555\n",
      "Australia          493\n",
      "Portugal           437\n",
      "New Zealand        298\n",
      "Austria            234\n",
      "Germany            221\n",
      "South Africa       203\n",
      "Greece              94\n",
      "Israel              59\n",
      "Hungary             26\n",
      "Canada              25\n",
      "Romania             14\n",
      "Uruguay              9\n",
      "Croatia              9\n",
      "Slovenia             8\n",
      "Moldova              7\n",
      "Turkey               6\n",
      "Bulgaria             5\n",
      "Mexico               5\n",
      "Cyprus               4\n",
      "Lebanon              3\n",
      "Georgia              3\n",
      "Luxembourg           2\n",
      "Macedonia            2\n",
      "Brazil               2\n",
      "England              1\n",
      "Czech Republic       1\n",
      "Slovakia             1\n",
      "China                1\n",
      "India                1\n",
      "Serbia               1\n",
      "Ukraine              1\n",
      "Name: count, dtype: int64\n"
     ]
    }
   ],
   "source": [
    "# Let us see the number of unique entries in each column, and only keep the unique entries which appear at least \n",
    "\n",
    "country_counts = data_first['country'].value_counts()\n",
    "print(country_counts)\n"
   ]
  },
  {
   "cell_type": "code",
   "execution_count": 9,
   "metadata": {},
   "outputs": [
    {
     "name": "stdout",
     "output_type": "stream",
     "text": [
      "country\n",
      "US              6135\n",
      "Italy           1842\n",
      "France          1444\n",
      "Spain            873\n",
      "Chile            599\n",
      "Argentina        555\n",
      "Australia        493\n",
      "Portugal         437\n",
      "New Zealand      298\n",
      "Austria          234\n",
      "Germany          221\n",
      "South Africa     203\n",
      "Greece            94\n",
      "Israel            59\n",
      "Hungary           26\n",
      "Canada            25\n",
      "Romania           14\n",
      "Name: count, dtype: int64\n",
      "Number of records: 13552\n"
     ]
    }
   ],
   "source": [
    "min_country_count = 10  # Set the minimum count threshold\n",
    "valid_countries = []\n",
    "\n",
    "country_counts = data_first['country'].value_counts()\n",
    "for country, count in country_counts.items():\n",
    "    if count >= min_country_count:\n",
    "        valid_countries.append(country)\n",
    "\n",
    "# Filter the DataFrame to keep only the valid countries\n",
    "data_first = data_first[data_first['country'].isin(valid_countries)]\n",
    "\n",
    "country_counts = data_first['country'].value_counts()\n",
    "print(country_counts)\n",
    "print(\"Number of records:\", len(data_first))\n"
   ]
  },
  {
   "cell_type": "code",
   "execution_count": 10,
   "metadata": {},
   "outputs": [
    {
     "name": "stdout",
     "output_type": "stream",
     "text": [
      "province\n",
      "California              4429\n",
      "Washington               933\n",
      "Tuscany                  584\n",
      "Northern Spain           506\n",
      "Mendoza Province         478\n",
      "                        ... \n",
      "Judean Hills              11\n",
      "Tokaji                    11\n",
      "Península de Setúbal      10\n",
      "Waipara                   10\n",
      "Ribatejo                  10\n",
      "Name: count, Length: 86, dtype: int64\n",
      "Number of records: 13133\n"
     ]
    }
   ],
   "source": [
    "# Let's do the same for the columns 'province', 'variety', and 'winery'\n",
    "\n",
    "# Providence column\n",
    "\n",
    "min_province_count = 10  # Set the minimum count threshold\n",
    "valid_provinces = []\n",
    "\n",
    "province_counts = data_first['province'].value_counts()\n",
    "for province, count in province_counts.items():\n",
    "    if count >= min_province_count:\n",
    "        valid_provinces.append(province)\n",
    "\n",
    "data_first = data_first[data_first['province'].isin(valid_provinces)]\n",
    "\n",
    "province_counts = data_first['province'].value_counts()\n",
    "print(province_counts)\n",
    "print(\"Number of records:\", len(data_first))\n"
   ]
  },
  {
   "cell_type": "code",
   "execution_count": 11,
   "metadata": {},
   "outputs": [
    {
     "name": "stdout",
     "output_type": "stream",
     "text": [
      "variety\n",
      "Pinot Noir            1374\n",
      "Chardonnay            1239\n",
      "Cabernet Sauvignon    1214\n",
      "Red Blend              903\n",
      "Syrah                  565\n",
      "                      ... \n",
      "Shiraz-Viognier         10\n",
      "Austrian Red Blend      10\n",
      "Muscat                  10\n",
      "Pinot Nero              10\n",
      "Fiano                   10\n",
      "Name: count, Length: 89, dtype: int64\n",
      "Number of records: 12552\n"
     ]
    }
   ],
   "source": [
    "# For 'variety' column\n",
    "\n",
    "min_variety_count = 10  # Set the minimum count threshold\n",
    "valid_varieties = []\n",
    "\n",
    "variety_counts = data_first['variety'].value_counts()\n",
    "for variety, count in variety_counts.items():\n",
    "    if count >= min_variety_count:\n",
    "        valid_varieties.append(variety)\n",
    "\n",
    "data_first = data_first[data_first['variety'].isin(valid_varieties)]\n",
    "\n",
    "variety_counts = data_first['variety'].value_counts()\n",
    "print(variety_counts)\n",
    "print(\"Number of records:\", len(data_first))"
   ]
  },
  {
   "cell_type": "code",
   "execution_count": 12,
   "metadata": {},
   "outputs": [
    {
     "name": "stdout",
     "output_type": "stream",
     "text": [
      "winery\n",
      "Williams Selyem          34\n",
      "Columbia Crest           29\n",
      "Chateau Ste. Michelle    23\n",
      "Trapiche                 23\n",
      "Testarossa               23\n",
      "                         ..\n",
      "Tenuta Sette Ponti        1\n",
      "La Fornace                1\n",
      "Michael Pozzan            1\n",
      "Michael Florentino        1\n",
      "San Saba                  1\n",
      "Name: count, Length: 5466, dtype: int64\n",
      "Index(['country', 'points', 'price', 'province', 'variety'], dtype='object')\n",
      "Number of records: 12552\n"
     ]
    }
   ],
   "source": [
    "# For 'winery' column - this column has far too much variation, so we will delete it\n",
    "winery_counts = data_first['winery'].value_counts()\n",
    "print(winery_counts)\n",
    "\n",
    "\n",
    "data_first = data_first.drop('winery', axis=1)\n",
    "\n",
    "print(data_first.columns)\n",
    "print(\"Number of records:\", len(data_first))"
   ]
  },
  {
   "cell_type": "markdown",
   "metadata": {},
   "source": [
    "Now, we need to calculate the price from the columns Country, Points, Province, and Variety"
   ]
  },
  {
   "cell_type": "code",
   "execution_count": 13,
   "metadata": {},
   "outputs": [
    {
     "name": "stdout",
     "output_type": "stream",
     "text": [
      "     country  points  price          province             variety\n",
      "0         US    0.15   10.0        California     Sauvignon Blanc\n",
      "1         US    0.70   34.0        Washington               Syrah\n",
      "2  Argentina    0.35   17.0  Mendoza Province  Cabernet Sauvignon\n",
      "3      Spain    0.60   41.0    Northern Spain         Tempranillo\n",
      "4      Chile    0.25   13.0  Aconcagua Valley  Cabernet Sauvignon\n"
     ]
    }
   ],
   "source": [
    "# Let's scale the points colunm\n",
    "from sklearn.preprocessing import MinMaxScaler\n",
    "\n",
    "# Create a MinMaxScaler\n",
    "scaler = MinMaxScaler()\n",
    "\n",
    "# Fit and transform the 'Points' column\n",
    "data_first['points'] = scaler.fit_transform(data_first[['points']])\n",
    "print(data_first.head(5))\n"
   ]
  },
  {
   "cell_type": "code",
   "execution_count": 14,
   "metadata": {},
   "outputs": [
    {
     "name": "stdout",
     "output_type": "stream",
     "text": [
      "Number of unique values in the 'variety' column: 89\n",
      "191\n"
     ]
    }
   ],
   "source": [
    "unique_varieties_count = data_first['variety'].nunique()\n",
    "print(\"Number of unique values in the 'variety' column:\", unique_varieties_count)\n",
    "\n",
    "data_first = pd.get_dummies(data_first, columns=['variety', 'country', 'province'], prefix='variety')\n",
    "\n",
    "print(len(data_first.columns))\n"
   ]
  },
  {
   "cell_type": "code",
   "execution_count": 15,
   "metadata": {},
   "outputs": [],
   "source": [
    "# Now, let's build the model\n",
    "\n",
    "from sklearn.model_selection import train_test_split\n",
    "from sklearn.ensemble import RandomForestRegressor"
   ]
  },
  {
   "cell_type": "code",
   "execution_count": 16,
   "metadata": {},
   "outputs": [
    {
     "name": "stdout",
     "output_type": "stream",
     "text": [
      "Accuracy: 30.111585726194413\n"
     ]
    }
   ],
   "source": [
    "X = data_first.drop('price', axis=1)\n",
    "y = data_first['price']\n",
    "X_train, X_test, y_train, y_test = train_test_split(X, y, test_size=0.2, random_state=42)\n",
    "rf_regressor = RandomForestRegressor(n_estimators=100, random_state=42)\n",
    "rf_regressor.fit(X_train, y_train)\n",
    "\n",
    "print('Accuracy:',rf_regressor.score(X_test, y_test)*100)\n"
   ]
  },
  {
   "cell_type": "markdown",
   "metadata": {},
   "source": [
    "Conclusion: Predicting the price of wines from the given data is unreasonable, as the price will be influenced by external data that we do not have on hand..."
   ]
  }
 ],
 "metadata": {
  "kernelspec": {
   "display_name": "Python 3",
   "language": "python",
   "name": "python3"
  },
  "language_info": {
   "codemirror_mode": {
    "name": "ipython",
    "version": 3
   },
   "file_extension": ".py",
   "mimetype": "text/x-python",
   "name": "python",
   "nbconvert_exporter": "python",
   "pygments_lexer": "ipython3",
   "version": "3.10.2"
  },
  "orig_nbformat": 4
 },
 "nbformat": 4,
 "nbformat_minor": 2
}
